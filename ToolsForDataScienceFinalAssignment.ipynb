{
 "cells": [
  {
   "cell_type": "markdown",
   "id": "81764297",
   "metadata": {},
   "source": [
    "# Data Science Tools and Ecosystem"
   ]
  },
  {
   "cell_type": "markdown",
   "id": "eec48bfe",
   "metadata": {},
   "source": [
    "In this notebook, Data Science Tools and Ecosystem are summarized."
   ]
  },
  {
   "cell_type": "markdown",
   "id": "87aaf4f9",
   "metadata": {},
   "source": [
    "**Objectives:**\n",
    "* List Popular Data Science Languages\n",
    "* List Notable Data Science Libraries\n",
    "* Create a table listing Common IDEs\n",
    "* Evaluate and explain arithmetic operations"
   ]
  },
  {
   "cell_type": "markdown",
   "id": "3879c2b8",
   "metadata": {},
   "source": [
    "Some of the popular languages Data Scientists use are:\n",
    "\n",
    "1. Python\n",
    "2. R\n",
    "3. SQL\n",
    "4. C\n",
    "5. HTML\n",
    "6. Javascript\n",
    "7. PHP\n",
    "8. Ruby\n",
    "9. SPSS\n",
    "10. SAS\n",
    "11. C++\n",
    "12. C#\n",
    "13. Excel\n",
    "14. Minitab\n",
    "15. Java\n",
    "16. RStudio\n",
    "17. Git\n",
    "18. Scala \n",
    "19. Julia\n",
    "20. MatLab\n",
    "\n"
   ]
  },
  {
   "cell_type": "markdown",
   "id": "112c5490",
   "metadata": {},
   "source": [
    "Some of the commonly used libraries used by Data Scientists include: \n",
    "1. Pandas \n",
    "2. MatPlotLib \n",
    "3. ggplot2 \n",
    "4. Leaflet \n",
    "5. Seaborn \n",
    "6. Numpy \n",
    "7. SciPy \n",
    "8. Tensorflow \n",
    "9. Pytorch \n",
    "10. Scikit-Learn \n",
    "11. Dplyr \n",
    "12. Stringr \n",
    "13. Shiny \n",
    "14. Lattice \n",
    "15. Tidyr \n",
    "16. Lubridate \n",
    "17. mlr \n",
    "18. caret \n",
    "19. Plotly \n",
    "20. random Forest"
   ]
  },
  {
   "cell_type": "markdown",
   "id": "124e3252",
   "metadata": {},
   "source": [
    "| Data Science Tools |\n",
    "|--------------------|\n",
    "| Gitlab             |\n",
    "| PyCharm |\n",
    "| Spyder |\n",
    "| Jupyter Notebooks |\n",
    "| Visual Studio |"
   ]
  },
  {
   "cell_type": "markdown",
   "id": "5d091132",
   "metadata": {},
   "source": [
    "### Below are a few examples of evaluating arithmetic expressions in Python"
   ]
  },
  {
   "cell_type": "code",
   "execution_count": 8,
   "id": "d2467c0e",
   "metadata": {},
   "outputs": [
    {
     "data": {
      "text/plain": [
       "17"
      ]
     },
     "execution_count": 8,
     "metadata": {},
     "output_type": "execute_result"
    }
   ],
   "source": [
    "# This is a simple arithmetic expression to multiply then add integers\n",
    "(3*4)+5"
   ]
  },
  {
   "cell_type": "code",
   "execution_count": 9,
   "id": "8f11f124",
   "metadata": {},
   "outputs": [
    {
     "data": {
      "text/plain": [
       "3.3333333333333335"
      ]
     },
     "execution_count": 9,
     "metadata": {},
     "output_type": "execute_result"
    }
   ],
   "source": [
    "# This will convert 200 minutes to hours by dividing by 60\n",
    "200/60"
   ]
  },
  {
   "cell_type": "markdown",
   "id": "7ede6580",
   "metadata": {},
   "source": [
    "## Author\n",
    "Graham Nash"
   ]
  }
 ],
 "metadata": {
  "kernelspec": {
   "display_name": "Python 3 (ipykernel)",
   "language": "python",
   "name": "python3"
  },
  "language_info": {
   "codemirror_mode": {
    "name": "ipython",
    "version": 3
   },
   "file_extension": ".py",
   "mimetype": "text/x-python",
   "name": "python",
   "nbconvert_exporter": "python",
   "pygments_lexer": "ipython3",
   "version": "3.10.9"
  }
 },
 "nbformat": 4,
 "nbformat_minor": 5
}
